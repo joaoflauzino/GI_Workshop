{
  "nbformat": 4,
  "nbformat_minor": 0,
  "metadata": {
    "colab": {
      "name": "MiniCurso_GI.ipynb",
      "provenance": [],
      "authorship_tag": "ABX9TyP6XQUT7Qp+werusiDX/cLc",
      "include_colab_link": true
    },
    "kernelspec": {
      "name": "python3",
      "display_name": "Python 3"
    },
    "language_info": {
      "name": "python"
    }
  },
  "cells": [
    {
      "cell_type": "markdown",
      "metadata": {
        "id": "view-in-github",
        "colab_type": "text"
      },
      "source": [
        "<a href=\"https://colab.research.google.com/github/joaoflauzino/GI_Workshop/blob/main/MiniCurso_GI.ipynb\" target=\"_parent\"><img src=\"https://colab.research.google.com/assets/colab-badge.svg\" alt=\"Open In Colab\"/></a>"
      ]
    },
    {
      "cell_type": "code",
      "metadata": {
        "id": "zpt9dd8ANt-f"
      },
      "source": [
        "# Manipulação de dados\n",
        "import pandas as pd\n",
        "import numpy as np\n",
        "\n",
        "# Arquivos \n",
        "from google.colab import files\n",
        "from google.colab import drive\n",
        "\n",
        "# Pre-processamento\n",
        "from imblearn.pipeline import Pipeline as pipe_imb\n",
        "from imblearn.under_sampling import RandomUnderSampler\n",
        "from sklearn.pipeline import Pipeline, FeatureUnion, make_pipeline, make_union\n",
        "from sklearn.preprocessing import FunctionTransformer\n",
        "from sklearn.compose import ColumnTransformer\n",
        "from sklearn.preprocessing import MinMaxScaler\n",
        "from sklearn.preprocessing import OneHotEncoder\n",
        "from sklearn.model_selection import train_test_split \n",
        "\n",
        "# Modelos\n",
        "from sklearn.ensemble import RandomForestRegressor\n",
        "from sklearn import tree\n",
        "import sklearn\n",
        "\n",
        "# Avaliação\n",
        "from sklearn.metrics import accuracy_score\n",
        "from sklearn.metrics import roc_auc_score\n",
        "from sklearn.metrics import precision_score\n",
        "from sklearn.metrics import recall_score\n",
        "from sklearn.metrics import f1_score\n",
        "from sklearn.metrics import confusion_matrix\n",
        "\n",
        "# Visualização de dados \n",
        "import seaborn as sns\n",
        "import matplotlib.pyplot as plt"
      ],
      "execution_count": 94,
      "outputs": []
    },
    {
      "cell_type": "markdown",
      "metadata": {
        "id": "yDMmtTtyOUiv"
      },
      "source": [
        "# Problema\n",
        "\n",
        "* Cenário de transações bancárias\n",
        "* Muitos eventos de fraudes ocorrendo sem ação rápida para trativas\n",
        "\n",
        "![image.png](data:image/png;base64,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)\n",
        "\n",
        "# Objetivo\n",
        "\n",
        "* Ensinar a máquina para identificar fraude sem a necessidade de intervenção humana. Garantir que a máquina ela tenha exemplos suficientes do que é fraude e o que não é fraude.\n",
        "\n",
        "* Aprendizado Supervisionado"
      ]
    },
    {
      "cell_type": "markdown",
      "metadata": {
        "id": "_CGw1YcGPRw7"
      },
      "source": [
        "# Descrição da base\n",
        "\n",
        "- type -> CASH-IN (Depósito), CASH-OUT (Saque), DEBIT (Débito), PAYMENT (Pagamentos) e TRANSFER (Transferências)\n",
        "- amount -> Valor da transação financeira\n",
        "- nameOrig -> Cliente que iniciou a operação\n",
        "- oldbalanceOrg -> Balanço inicial antes da transação\n",
        "- newbalanceOrig -> Balanço atualizado após a transação\n",
        "- nameDest -> cliente que recebeu o valor da transação\n",
        "- oldbalanceDest -> Balanço inicial do cliente de destino que recebeu a transação\n",
        "- newbalanceDest  -> Balanço atualizado do cliente de destino após a transação\n",
        "- isFraud -> Marcação de qual transação é fraude\n",
        "- IsFlaggedFraud -> Marcação realizada por um processo de negócios qualquer"
      ]
    },
    {
      "cell_type": "markdown",
      "metadata": {
        "id": "naMJ9tWZQEg5"
      },
      "source": [
        "## Leitura da base"
      ]
    },
    {
      "cell_type": "code",
      "metadata": {
        "colab": {
          "base_uri": "https://localhost:8080/"
        },
        "id": "Waeq1aRKQGPq",
        "outputId": "1cbd3393-077d-49b5-9c37-02597e371589"
      },
      "source": [
        "drive.mount('/content/drive')"
      ],
      "execution_count": 3,
      "outputs": [
        {
          "output_type": "stream",
          "name": "stdout",
          "text": [
            "Mounted at /content/drive\n"
          ]
        }
      ]
    },
    {
      "cell_type": "code",
      "metadata": {
        "colab": {
          "base_uri": "https://localhost:8080/"
        },
        "id": "pZGkNC8wQXTy",
        "outputId": "07855051-ef64-4428-f2ae-751f68e66c20"
      },
      "source": [
        "%%time\n",
        "df = pd.read_csv('/content/drive/My Drive/Datasets/Fraud.csv')"
      ],
      "execution_count": 4,
      "outputs": [
        {
          "output_type": "stream",
          "name": "stdout",
          "text": [
            "CPU times: user 8.04 s, sys: 1.16 s, total: 9.2 s\n",
            "Wall time: 11.6 s\n"
          ]
        }
      ]
    },
    {
      "cell_type": "code",
      "metadata": {
        "colab": {
          "base_uri": "https://localhost:8080/",
          "height": 206
        },
        "id": "Jo-rxR6vQjsc",
        "outputId": "b6a26b3e-f12a-4160-a3d9-ff237ad06104"
      },
      "source": [
        "df.head()"
      ],
      "execution_count": 5,
      "outputs": [
        {
          "output_type": "execute_result",
          "data": {
            "text/html": [
              "<div>\n",
              "<style scoped>\n",
              "    .dataframe tbody tr th:only-of-type {\n",
              "        vertical-align: middle;\n",
              "    }\n",
              "\n",
              "    .dataframe tbody tr th {\n",
              "        vertical-align: top;\n",
              "    }\n",
              "\n",
              "    .dataframe thead th {\n",
              "        text-align: right;\n",
              "    }\n",
              "</style>\n",
              "<table border=\"1\" class=\"dataframe\">\n",
              "  <thead>\n",
              "    <tr style=\"text-align: right;\">\n",
              "      <th></th>\n",
              "      <th>step</th>\n",
              "      <th>type</th>\n",
              "      <th>amount</th>\n",
              "      <th>nameOrig</th>\n",
              "      <th>oldbalanceOrg</th>\n",
              "      <th>newbalanceOrig</th>\n",
              "      <th>nameDest</th>\n",
              "      <th>oldbalanceDest</th>\n",
              "      <th>newbalanceDest</th>\n",
              "      <th>isFraud</th>\n",
              "      <th>isFlaggedFraud</th>\n",
              "    </tr>\n",
              "  </thead>\n",
              "  <tbody>\n",
              "    <tr>\n",
              "      <th>0</th>\n",
              "      <td>1</td>\n",
              "      <td>PAYMENT</td>\n",
              "      <td>9839.64</td>\n",
              "      <td>C1231006815</td>\n",
              "      <td>170136.0</td>\n",
              "      <td>160296.36</td>\n",
              "      <td>M1979787155</td>\n",
              "      <td>0.0</td>\n",
              "      <td>0.0</td>\n",
              "      <td>0</td>\n",
              "      <td>0</td>\n",
              "    </tr>\n",
              "    <tr>\n",
              "      <th>1</th>\n",
              "      <td>1</td>\n",
              "      <td>PAYMENT</td>\n",
              "      <td>1864.28</td>\n",
              "      <td>C1666544295</td>\n",
              "      <td>21249.0</td>\n",
              "      <td>19384.72</td>\n",
              "      <td>M2044282225</td>\n",
              "      <td>0.0</td>\n",
              "      <td>0.0</td>\n",
              "      <td>0</td>\n",
              "      <td>0</td>\n",
              "    </tr>\n",
              "    <tr>\n",
              "      <th>2</th>\n",
              "      <td>1</td>\n",
              "      <td>TRANSFER</td>\n",
              "      <td>181.00</td>\n",
              "      <td>C1305486145</td>\n",
              "      <td>181.0</td>\n",
              "      <td>0.00</td>\n",
              "      <td>C553264065</td>\n",
              "      <td>0.0</td>\n",
              "      <td>0.0</td>\n",
              "      <td>1</td>\n",
              "      <td>0</td>\n",
              "    </tr>\n",
              "    <tr>\n",
              "      <th>3</th>\n",
              "      <td>1</td>\n",
              "      <td>CASH_OUT</td>\n",
              "      <td>181.00</td>\n",
              "      <td>C840083671</td>\n",
              "      <td>181.0</td>\n",
              "      <td>0.00</td>\n",
              "      <td>C38997010</td>\n",
              "      <td>21182.0</td>\n",
              "      <td>0.0</td>\n",
              "      <td>1</td>\n",
              "      <td>0</td>\n",
              "    </tr>\n",
              "    <tr>\n",
              "      <th>4</th>\n",
              "      <td>1</td>\n",
              "      <td>PAYMENT</td>\n",
              "      <td>11668.14</td>\n",
              "      <td>C2048537720</td>\n",
              "      <td>41554.0</td>\n",
              "      <td>29885.86</td>\n",
              "      <td>M1230701703</td>\n",
              "      <td>0.0</td>\n",
              "      <td>0.0</td>\n",
              "      <td>0</td>\n",
              "      <td>0</td>\n",
              "    </tr>\n",
              "  </tbody>\n",
              "</table>\n",
              "</div>"
            ],
            "text/plain": [
              "   step      type    amount  ... newbalanceDest  isFraud  isFlaggedFraud\n",
              "0     1   PAYMENT   9839.64  ...            0.0        0               0\n",
              "1     1   PAYMENT   1864.28  ...            0.0        0               0\n",
              "2     1  TRANSFER    181.00  ...            0.0        1               0\n",
              "3     1  CASH_OUT    181.00  ...            0.0        1               0\n",
              "4     1   PAYMENT  11668.14  ...            0.0        0               0\n",
              "\n",
              "[5 rows x 11 columns]"
            ]
          },
          "metadata": {},
          "execution_count": 5
        }
      ]
    },
    {
      "cell_type": "code",
      "metadata": {
        "colab": {
          "base_uri": "https://localhost:8080/"
        },
        "id": "6_ppqUeDQ1X1",
        "outputId": "a0a64434-6a70-4f28-a8dc-ccdbe58a5468"
      },
      "source": [
        "df.shape"
      ],
      "execution_count": 6,
      "outputs": [
        {
          "output_type": "execute_result",
          "data": {
            "text/plain": [
              "(6362620, 11)"
            ]
          },
          "metadata": {},
          "execution_count": 6
        }
      ]
    },
    {
      "cell_type": "markdown",
      "metadata": {
        "id": "S9IAUlXnREtp"
      },
      "source": [
        "## Exploração dos dados "
      ]
    },
    {
      "cell_type": "code",
      "metadata": {
        "id": "v7ZlENpURH0Y"
      },
      "source": [
        "# Definir um número de casas decimais\n",
        "pd.set_option('float_format', '{:.2f}'.format)"
      ],
      "execution_count": 7,
      "outputs": []
    },
    {
      "cell_type": "code",
      "metadata": {
        "colab": {
          "base_uri": "https://localhost:8080/",
          "height": 335
        },
        "id": "OSW4YsBVRh7X",
        "outputId": "c318a58b-b609-4542-c169-7c6c745cf8f6"
      },
      "source": [
        "%%time\n",
        "# Básicas\n",
        "df.describe()"
      ],
      "execution_count": 8,
      "outputs": [
        {
          "output_type": "stream",
          "name": "stdout",
          "text": [
            "CPU times: user 1.21 s, sys: 58.5 ms, total: 1.27 s\n",
            "Wall time: 1.28 s\n"
          ]
        },
        {
          "output_type": "execute_result",
          "data": {
            "text/html": [
              "<div>\n",
              "<style scoped>\n",
              "    .dataframe tbody tr th:only-of-type {\n",
              "        vertical-align: middle;\n",
              "    }\n",
              "\n",
              "    .dataframe tbody tr th {\n",
              "        vertical-align: top;\n",
              "    }\n",
              "\n",
              "    .dataframe thead th {\n",
              "        text-align: right;\n",
              "    }\n",
              "</style>\n",
              "<table border=\"1\" class=\"dataframe\">\n",
              "  <thead>\n",
              "    <tr style=\"text-align: right;\">\n",
              "      <th></th>\n",
              "      <th>step</th>\n",
              "      <th>amount</th>\n",
              "      <th>oldbalanceOrg</th>\n",
              "      <th>newbalanceOrig</th>\n",
              "      <th>oldbalanceDest</th>\n",
              "      <th>newbalanceDest</th>\n",
              "      <th>isFraud</th>\n",
              "      <th>isFlaggedFraud</th>\n",
              "    </tr>\n",
              "  </thead>\n",
              "  <tbody>\n",
              "    <tr>\n",
              "      <th>count</th>\n",
              "      <td>6362620.00</td>\n",
              "      <td>6362620.00</td>\n",
              "      <td>6362620.00</td>\n",
              "      <td>6362620.00</td>\n",
              "      <td>6362620.00</td>\n",
              "      <td>6362620.00</td>\n",
              "      <td>6362620.00</td>\n",
              "      <td>6362620.00</td>\n",
              "    </tr>\n",
              "    <tr>\n",
              "      <th>mean</th>\n",
              "      <td>243.40</td>\n",
              "      <td>179861.90</td>\n",
              "      <td>833883.10</td>\n",
              "      <td>855113.67</td>\n",
              "      <td>1100701.67</td>\n",
              "      <td>1224996.40</td>\n",
              "      <td>0.00</td>\n",
              "      <td>0.00</td>\n",
              "    </tr>\n",
              "    <tr>\n",
              "      <th>std</th>\n",
              "      <td>142.33</td>\n",
              "      <td>603858.23</td>\n",
              "      <td>2888242.67</td>\n",
              "      <td>2924048.50</td>\n",
              "      <td>3399180.11</td>\n",
              "      <td>3674128.94</td>\n",
              "      <td>0.04</td>\n",
              "      <td>0.00</td>\n",
              "    </tr>\n",
              "    <tr>\n",
              "      <th>min</th>\n",
              "      <td>1.00</td>\n",
              "      <td>0.00</td>\n",
              "      <td>0.00</td>\n",
              "      <td>0.00</td>\n",
              "      <td>0.00</td>\n",
              "      <td>0.00</td>\n",
              "      <td>0.00</td>\n",
              "      <td>0.00</td>\n",
              "    </tr>\n",
              "    <tr>\n",
              "      <th>25%</th>\n",
              "      <td>156.00</td>\n",
              "      <td>13389.57</td>\n",
              "      <td>0.00</td>\n",
              "      <td>0.00</td>\n",
              "      <td>0.00</td>\n",
              "      <td>0.00</td>\n",
              "      <td>0.00</td>\n",
              "      <td>0.00</td>\n",
              "    </tr>\n",
              "    <tr>\n",
              "      <th>50%</th>\n",
              "      <td>239.00</td>\n",
              "      <td>74871.94</td>\n",
              "      <td>14208.00</td>\n",
              "      <td>0.00</td>\n",
              "      <td>132705.66</td>\n",
              "      <td>214661.44</td>\n",
              "      <td>0.00</td>\n",
              "      <td>0.00</td>\n",
              "    </tr>\n",
              "    <tr>\n",
              "      <th>75%</th>\n",
              "      <td>335.00</td>\n",
              "      <td>208721.48</td>\n",
              "      <td>107315.18</td>\n",
              "      <td>144258.41</td>\n",
              "      <td>943036.71</td>\n",
              "      <td>1111909.25</td>\n",
              "      <td>0.00</td>\n",
              "      <td>0.00</td>\n",
              "    </tr>\n",
              "    <tr>\n",
              "      <th>max</th>\n",
              "      <td>743.00</td>\n",
              "      <td>92445516.64</td>\n",
              "      <td>59585040.37</td>\n",
              "      <td>49585040.37</td>\n",
              "      <td>356015889.35</td>\n",
              "      <td>356179278.92</td>\n",
              "      <td>1.00</td>\n",
              "      <td>1.00</td>\n",
              "    </tr>\n",
              "  </tbody>\n",
              "</table>\n",
              "</div>"
            ],
            "text/plain": [
              "            step      amount  ...    isFraud  isFlaggedFraud\n",
              "count 6362620.00  6362620.00  ... 6362620.00      6362620.00\n",
              "mean      243.40   179861.90  ...       0.00            0.00\n",
              "std       142.33   603858.23  ...       0.04            0.00\n",
              "min         1.00        0.00  ...       0.00            0.00\n",
              "25%       156.00    13389.57  ...       0.00            0.00\n",
              "50%       239.00    74871.94  ...       0.00            0.00\n",
              "75%       335.00   208721.48  ...       0.00            0.00\n",
              "max       743.00 92445516.64  ...       1.00            1.00\n",
              "\n",
              "[8 rows x 8 columns]"
            ]
          },
          "metadata": {},
          "execution_count": 8
        }
      ]
    },
    {
      "cell_type": "code",
      "metadata": {
        "colab": {
          "base_uri": "https://localhost:8080/"
        },
        "id": "iPqkrNfMSmM6",
        "outputId": "be8f99bd-f9f5-4d9d-aa73-18331997531a"
      },
      "source": [
        "# Verificar os nulos\n",
        "df.isnull().sum()"
      ],
      "execution_count": 12,
      "outputs": [
        {
          "output_type": "execute_result",
          "data": {
            "text/plain": [
              "step              0\n",
              "type              0\n",
              "amount            0\n",
              "nameOrig          0\n",
              "oldbalanceOrg     0\n",
              "newbalanceOrig    0\n",
              "nameDest          0\n",
              "oldbalanceDest    0\n",
              "newbalanceDest    0\n",
              "isFraud           0\n",
              "isFlaggedFraud    0\n",
              "dtype: int64"
            ]
          },
          "metadata": {},
          "execution_count": 12
        }
      ]
    },
    {
      "cell_type": "code",
      "metadata": {
        "colab": {
          "base_uri": "https://localhost:8080/"
        },
        "id": "BWI2RYe0S1eW",
        "outputId": "7a39177c-e1bb-44ad-de8b-98b9234a666d"
      },
      "source": [
        "# Distribuição da nossa target\n",
        "df['isFraud'].value_counts()"
      ],
      "execution_count": 13,
      "outputs": [
        {
          "output_type": "execute_result",
          "data": {
            "text/plain": [
              "0    6354407\n",
              "1       8213\n",
              "Name: isFraud, dtype: int64"
            ]
          },
          "metadata": {},
          "execution_count": 13
        }
      ]
    },
    {
      "cell_type": "code",
      "metadata": {
        "id": "qzBV5kdxUbto"
      },
      "source": [
        "# Realizando cópia do dataframe\n",
        "df_fraude = df.copy()"
      ],
      "execution_count": 15,
      "outputs": []
    },
    {
      "cell_type": "code",
      "metadata": {
        "colab": {
          "base_uri": "https://localhost:8080/"
        },
        "id": "H5uI0vLzUpFf",
        "outputId": "b5babf0f-65f0-47b1-ca5f-9ca236466e0b"
      },
      "source": [
        "# Nome do destino\n",
        "df_fraude['nameDest'].head()"
      ],
      "execution_count": 16,
      "outputs": [
        {
          "output_type": "execute_result",
          "data": {
            "text/plain": [
              "0    M1979787155\n",
              "1    M2044282225\n",
              "2     C553264065\n",
              "3      C38997010\n",
              "4    M1230701703\n",
              "Name: nameDest, dtype: object"
            ]
          },
          "metadata": {},
          "execution_count": 16
        }
      ]
    },
    {
      "cell_type": "code",
      "metadata": {
        "id": "HKhjMhUEU4XZ"
      },
      "source": [
        "# Criar lógica para identificar PF e PJ\n",
        "df_fraude['identificacao'] = ''\n",
        "\n",
        "df_fraude.loc[ df_fraude.nameOrig.str.contains('C')  & df_fraude.nameDest.str.contains('C'), 'identificacao'] = 'CC'\n",
        "df_fraude.loc[ df_fraude.nameOrig.str.contains('C')  & df_fraude.nameDest.str.contains('M'), 'identificacao'] = 'CM'\n",
        "df_fraude.loc[ df_fraude.nameOrig.str.contains('M')  & df_fraude.nameDest.str.contains('C'), 'identificacao'] = 'MC'\n",
        "df_fraude.loc[ df_fraude.nameOrig.str.contains('M')  & df_fraude.nameDest.str.contains('M'), 'identificacao'] = 'MM'"
      ],
      "execution_count": 20,
      "outputs": []
    },
    {
      "cell_type": "code",
      "metadata": {
        "colab": {
          "base_uri": "https://localhost:8080/",
          "height": 299
        },
        "id": "LsZv7fAlVx3q",
        "outputId": "78a802a3-a5a4-4adf-beb4-8f9e27230526"
      },
      "source": [
        "df_fraude['identificacao'].value_counts().plot.bar()"
      ],
      "execution_count": 24,
      "outputs": [
        {
          "output_type": "execute_result",
          "data": {
            "text/plain": [
              "<matplotlib.axes._subplots.AxesSubplot at 0x7f0924bed650>"
            ]
          },
          "metadata": {},
          "execution_count": 24
        },
        {
          "output_type": "display_data",
          "data": {
            "image/png": "[encoded data removed]",
            "text/plain": [
              "<Figure size 432x288 with 1 Axes>"
            ]
          },
          "metadata": {
            "needs_background": "light"
          }
        }
      ]
    },
    {
      "cell_type": "code",
      "metadata": {
        "colab": {
          "base_uri": "https://localhost:8080/",
          "height": 287
        },
        "id": "lOfHE9Y6WOIB",
        "outputId": "5f0b1062-87c2-44c0-971f-07d1eb90412c"
      },
      "source": [
        "# Qual o tipo de conta que mais realiza fraude?\n",
        "df_fraude.query('isFraud == 1')['identificacao'].value_counts().plot.bar()"
      ],
      "execution_count": 26,
      "outputs": [
        {
          "output_type": "execute_result",
          "data": {
            "text/plain": [
              "<matplotlib.axes._subplots.AxesSubplot at 0x7f092337bcd0>"
            ]
          },
          "metadata": {},
          "execution_count": 26
        },
        {
          "output_type": "display_data",
          "data": {
            "image/png": "[encoded data removed]",
            "text/plain": [
              "<Figure size 432x288 with 1 Axes>"
            ]
          },
          "metadata": {
            "needs_background": "light"
          }
        }
      ]
    },
    {
      "cell_type": "code",
      "metadata": {
        "colab": {
          "base_uri": "https://localhost:8080/",
          "height": 299
        },
        "id": "KSfqZhTVWmVp",
        "outputId": "8f214800-5b0b-40a4-fc91-2dea2e7ccfd6"
      },
      "source": [
        "# Tipo de conta que não realiza fraude\n",
        "df_fraude.query('isFraud == 0')['identificacao'].value_counts().plot.bar()"
      ],
      "execution_count": 27,
      "outputs": [
        {
          "output_type": "execute_result",
          "data": {
            "text/plain": [
              "<matplotlib.axes._subplots.AxesSubplot at 0x7f09232f08d0>"
            ]
          },
          "metadata": {},
          "execution_count": 27
        },
        {
          "output_type": "display_data",
          "data": {
            "image/png": "[encoded data removed]",
            "text/plain": [
              "<Figure size 432x288 with 1 Axes>"
            ]
          },
          "metadata": {
            "needs_background": "light"
          }
        }
      ]
    },
    {
      "cell_type": "code",
      "metadata": {
        "colab": {
          "base_uri": "https://localhost:8080/",
          "height": 327
        },
        "id": "RYBGgfJ5WzcD",
        "outputId": "cd8f3060-37c5-4864-a083-ab17d8309c42"
      },
      "source": [
        "# Em quais tipos de transsações ocorrem fraudes?\n",
        "df_fraude.query('isFraud == 1')['type'].value_counts().plot.bar()"
      ],
      "execution_count": 28,
      "outputs": [
        {
          "output_type": "execute_result",
          "data": {
            "text/plain": [
              "<matplotlib.axes._subplots.AxesSubplot at 0x7f0923358490>"
            ]
          },
          "metadata": {},
          "execution_count": 28
        },
        {
          "output_type": "display_data",
          "data": {
            "image/png": "[encoded data removed]",
            "text/plain": [
              "<Figure size 432x288 with 1 Axes>"
            ]
          },
          "metadata": {
            "needs_background": "light"
          }
        }
      ]
    },
    {
      "cell_type": "code",
      "metadata": {
        "colab": {
          "base_uri": "https://localhost:8080/",
          "height": 337
        },
        "id": "rU6VPqfWXJVC",
        "outputId": "a03208c6-29f0-43df-d79e-52247cfbcc80"
      },
      "source": [
        "# Em quais tipos de transsações que não ocorrem fraudes?\n",
        "df_fraude.query('isFraud == 0')['type'].value_counts().plot.bar()"
      ],
      "execution_count": 29,
      "outputs": [
        {
          "output_type": "execute_result",
          "data": {
            "text/plain": [
              "<matplotlib.axes._subplots.AxesSubplot at 0x7f09231e9210>"
            ]
          },
          "metadata": {},
          "execution_count": 29
        },
        {
          "output_type": "display_data",
          "data": {
            "image/png": "[encoded data removed]",
            "text/plain": [
              "<Figure size 432x288 with 1 Axes>"
            ]
          },
          "metadata": {
            "needs_background": "light"
          }
        }
      ]
    },
    {
      "cell_type": "code",
      "metadata": {
        "colab": {
          "base_uri": "https://localhost:8080/"
        },
        "id": "Kl3hcto6XOfw",
        "outputId": "ce6a0c20-b04f-4209-c3ac-8fb27a34b92b"
      },
      "source": [
        "# Será que a pessoa que realiza fraude sempre utiliza a mesma conta?\n",
        "max(df_fraude.query('isFraud == 1')['nameOrig'].value_counts())"
      ],
      "execution_count": 31,
      "outputs": [
        {
          "output_type": "execute_result",
          "data": {
            "text/plain": [
              "1"
            ]
          },
          "metadata": {},
          "execution_count": 31
        }
      ]
    },
    {
      "cell_type": "code",
      "metadata": {
        "colab": {
          "base_uri": "https://localhost:8080/"
        },
        "id": "o8MIt_2hXsEA",
        "outputId": "f33e84f4-3d01-4f2a-c94f-d6e3bcd880be"
      },
      "source": [
        "# Será que a pessoa que recebe o valor da fraude sempre utiliza a mesma conta?\n",
        "max(df_fraude.query('isFraud == 1')['nameDest'].value_counts())"
      ],
      "execution_count": 34,
      "outputs": [
        {
          "output_type": "execute_result",
          "data": {
            "text/plain": [
              "2"
            ]
          },
          "metadata": {},
          "execution_count": 34
        }
      ]
    },
    {
      "cell_type": "code",
      "metadata": {
        "colab": {
          "base_uri": "https://localhost:8080/"
        },
        "id": "B43HW3OgX4_A",
        "outputId": "699093bf-72c8-43bd-87be-937c1fbea446"
      },
      "source": [
        "# Qual o valor antigo do balanço que mais repete quando se tem fraude?\n",
        "df_fraude.query('isFraud == 1')['oldbalanceDest'].mode()"
      ],
      "execution_count": 35,
      "outputs": [
        {
          "output_type": "execute_result",
          "data": {
            "text/plain": [
              "0   0.00\n",
              "dtype: float64"
            ]
          },
          "metadata": {},
          "execution_count": 35
        }
      ]
    },
    {
      "cell_type": "markdown",
      "metadata": {
        "id": "lbQSzhWJYQce"
      },
      "source": [
        "- Análise bivariada/multivariada"
      ]
    },
    {
      "cell_type": "markdown",
      "metadata": {
        "id": "RTow5tA7YXFD"
      },
      "source": [
        "# Preparar os dados para os modelos"
      ]
    },
    {
      "cell_type": "code",
      "metadata": {
        "colab": {
          "base_uri": "https://localhost:8080/"
        },
        "id": "Ycyl_FUeYpdJ",
        "outputId": "966005d5-0a7e-4ea0-f823-2515f85a67ee"
      },
      "source": [
        "df_fraude['isFlaggedFraud'].value_counts()"
      ],
      "execution_count": 38,
      "outputs": [
        {
          "output_type": "execute_result",
          "data": {
            "text/plain": [
              "0    6362604\n",
              "1         16\n",
              "Name: isFlaggedFraud, dtype: int64"
            ]
          },
          "metadata": {},
          "execution_count": 38
        }
      ]
    },
    {
      "cell_type": "code",
      "metadata": {
        "colab": {
          "base_uri": "https://localhost:8080/"
        },
        "id": "4LRPQ3XmYzWj",
        "outputId": "56cd53a5-f968-4bd0-a1e3-cd9a6883364f"
      },
      "source": [
        "df_fraude['isFraud'].value_counts()"
      ],
      "execution_count": 39,
      "outputs": [
        {
          "output_type": "execute_result",
          "data": {
            "text/plain": [
              "0    6354407\n",
              "1       8213\n",
              "Name: isFraud, dtype: int64"
            ]
          },
          "metadata": {},
          "execution_count": 39
        }
      ]
    },
    {
      "cell_type": "code",
      "metadata": {
        "id": "EeUvr-yLYbcm"
      },
      "source": [
        "# Excluir algumas variáveis\n",
        "df_fraude = df_fraude.drop(['nameOrig', 'nameDest', 'identificacao', 'step', 'isFlaggedFraud'], axis = 1)"
      ],
      "execution_count": 40,
      "outputs": []
    },
    {
      "cell_type": "markdown",
      "metadata": {
        "id": "rVakAay8ZDzE"
      },
      "source": [
        "# Abordagem do modelo"
      ]
    },
    {
      "cell_type": "code",
      "metadata": {
        "id": "4Zk_739WZoh7"
      },
      "source": [
        "# X1 + X2 + X3 + X4 + XN ~ Y"
      ],
      "execution_count": null,
      "outputs": []
    },
    {
      "cell_type": "code",
      "metadata": {
        "id": "4jRfDjTlZDNt"
      },
      "source": [
        "X = df_fraude[[i for i in df_fraude.columns if i != 'isFraud']]"
      ],
      "execution_count": 44,
      "outputs": []
    },
    {
      "cell_type": "code",
      "metadata": {
        "id": "muvB0_HBZtsa"
      },
      "source": [
        "y = df_fraude['isFraud']"
      ],
      "execution_count": 45,
      "outputs": []
    },
    {
      "cell_type": "markdown",
      "metadata": {
        "id": "zImilp77aCL2"
      },
      "source": [
        "# Criação do nosso pipeline"
      ]
    },
    {
      "cell_type": "code",
      "metadata": {
        "id": "UHIu98nOaOMh"
      },
      "source": [
        "# Pipeline para aplicar undersample\n",
        "undersample_transformer = pipe_imb(steps=[('UndersampleTransformer', RandomUnderSampler())])\n",
        "\n",
        "# Capturar variáveis numéricas\n",
        "numerics = ['int64', 'float64']\n",
        "numeric_features = [i for i in X.select_dtypes(include=numerics)]\n",
        "\n",
        "# Pipeline para variáveis numéricas\n",
        "numeric_transformer = Pipeline(steps = [('MinMaxScaler', MinMaxScaler())])\n",
        "\n",
        "# Capturar variáveis categóricas\n",
        "categorical_features = ['type']\n",
        "\n",
        "# Pipeline para variáveis categóricas\n",
        "categorical_transformer = Pipeline(steps=[('one_hot', OneHotEncoder(handle_unknown = \"ignore\"))])\n",
        "\n",
        "# Concatenando pipelines\n",
        "preprocessor = ColumnTransformer(\n",
        "                  transformers=[\n",
        "                                ('categorical', categorical_transformer, categorical_features),\n",
        "                                ('num', numeric_transformer, numeric_features),\n",
        "                                ])\n",
        "\n",
        "# Algoritmos\n",
        "algorithms = [tree.DecisionTreeClassifier(), sklearn.ensemble.GradientBoostingClassifier(), sklearn.ensemble.RandomForestClassifier()]"
      ],
      "execution_count": 68,
      "outputs": []
    },
    {
      "cell_type": "markdown",
      "metadata": {
        "id": "-JhIxZ0yfbhS"
      },
      "source": [
        "# Aplicando pipeline\n",
        "\n",
        "- Aplicar o pipeline do undersample"
      ]
    },
    {
      "cell_type": "code",
      "metadata": {
        "colab": {
          "base_uri": "https://localhost:8080/"
        },
        "id": "8M8hidpEffyr",
        "outputId": "82754bcd-c4be-4f45-e176-814018c8eb33"
      },
      "source": [
        "# Aplicando\n",
        "X_resampled, y_resampled = undersample_transformer.fit_resample(X, y)\n",
        "# Transformando em dataframe\n",
        "X_resampled_df = pd.DataFrame(X_resampled, columns = X.columns)"
      ],
      "execution_count": 70,
      "outputs": [
        {
          "output_type": "stream",
          "name": "stderr",
          "text": [
            "/usr/local/lib/python3.7/dist-packages/sklearn/utils/deprecation.py:87: FutureWarning: Function safe_indexing is deprecated; safe_indexing is deprecated in version 0.22 and will be removed in version 0.24.\n",
            "  warnings.warn(msg, category=FutureWarning)\n"
          ]
        }
      ]
    },
    {
      "cell_type": "code",
      "metadata": {
        "id": "aHrvYtpMg0Rb"
      },
      "source": [
        "X_train, X_test, y_train, y_test =  train_test_split(X_resampled_df, y_resampled, test_size = 0.3)"
      ],
      "execution_count": 79,
      "outputs": []
    },
    {
      "cell_type": "markdown",
      "metadata": {
        "id": "QYl2n2uFhiqK"
      },
      "source": [
        "# Aplicando pipeline"
      ]
    },
    {
      "cell_type": "code",
      "metadata": {
        "colab": {
          "base_uri": "https://localhost:8080/"
        },
        "id": "yOOzetZXhkfu",
        "outputId": "0f31b1ac-cab1-4705-c12c-872f6ae06c61"
      },
      "source": [
        "%%time\n",
        "metricas_avaliacao = {'ROC': roc_auc_score(y_test, y_pred), \n",
        "                      'PRECISAO': precision_score(y_test, y_pred), \n",
        "                      'RECALL': recall_score(y_test, y_pred), \n",
        "                      'F1_SCORE': f1_score(y_test, y_pred) , \n",
        "                      'MTRIZ_CONFUSAO': confusion_matrix(y_test, y_pred)}\n",
        "            \n",
        "modelos = {}\n",
        "for alg in algorithms:\n",
        "  # Pipeline\n",
        "  steps_ = [('preprocessor', preprocessor), ('models', alg)]\n",
        "  # Concatenação\n",
        "  model = Pipeline(steps=steps_)\n",
        "  # Treinar nosso modelo\n",
        "  model.fit(X_train, y_train)\n",
        "  # Testar o modelo\n",
        "  y_pred = model.predict(X_test)\n",
        "  # Armazenar os resultados\n",
        "  modelos[alg.__class__.__name__] = {}\n",
        "  modelos[alg.__class__.__name__]['ROC'] = roc_auc_score(y_test, y_pred)\n",
        "  modelos[alg.__class__.__name__]['PRECISAO'] = precision_score(y_test, y_pred)\n",
        "  modelos[alg.__class__.__name__]['RECALL'] = recall_score(y_test, y_pred)\n",
        "  modelos[alg.__class__.__name__]['F1_SCORE'] = f1_score(y_test, y_pred)\n",
        "  modelos[alg.__class__.__name__]['MATRIZ_CONFUSAO'] = confusion_matrix(y_test, y_pred)"
      ],
      "execution_count": 105,
      "outputs": [
        {
          "output_type": "stream",
          "name": "stdout",
          "text": [
            "CPU times: user 2.79 s, sys: 95 µs, total: 2.79 s\n",
            "Wall time: 2.79 s\n"
          ]
        }
      ]
    },
    {
      "cell_type": "markdown",
      "metadata": {
        "id": "z4B9Lp63jWzb"
      },
      "source": [
        "# Avaliando resultados\n",
        "\n",
        "- Matriz de confusão\n",
        "\n",
        "![image.png](data:image/png;base64,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)"
      ]
    },
    {
      "cell_type": "markdown",
      "metadata": {
        "id": "xvP0n0hljfOI"
      },
      "source": [
        "# Precisao -> tp / (tp + fp)\n",
        "# Recall -> tp / (tp + fn)"
      ]
    },
    {
      "cell_type": "code",
      "metadata": {
        "colab": {
          "base_uri": "https://localhost:8080/",
          "height": 499
        },
        "id": "IaeuiEYzkBTM",
        "outputId": "9c8ff581-4afb-48cc-e922-e5ecd0a97516"
      },
      "source": [
        "cmap = sns.cubehelix_palette(light=1, as_cmap=True)\n",
        "\n",
        "fig, axs = plt.subplots(nrows=len(algorithms), figsize=(8,8))\n",
        "\n",
        "for indice, alg in enumerate(algorithms):\n",
        "  sns.heatmap(modelos[alg.__class__.__name__]['MATRIZ_CONFUSAO'], annot=True, vmin=0.0, vmax=100.0, fmt='.0f', cmap=cmap, ax = axs[indice])\n",
        "  axs[indice].set_title(f'{alg.__class__.__name__} -- Precisao -> {modelos[alg.__class__.__name__][\"PRECISAO\"]} Recall -> {modelos[alg.__class__.__name__][\"RECALL\"]}')"
      ],
      "execution_count": 95,
      "outputs": [
        {
          "output_type": "display_data",
          "data": {
            "image/png": "[encoded data removed]",
            "text/plain": [
              "<Figure size 576x576 with 6 Axes>"
            ]
          },
          "metadata": {
            "needs_background": "light"
          }
        }
      ]
    },
    {
      "cell_type": "markdown",
      "metadata": {
        "id": "Te2dOS3FmYSh"
      },
      "source": [
        "# Caso não desse certo, o que poderíamos fazer?\n",
        "\n",
        "- Reunir com a equipe de negócios e verificar se existe mais variáveis\n",
        "- Testar outros modelos\n",
        "- Usar oversample ao invés de undersample ou utilizar modelos que saibam lidar com classes desbalanceadas\n",
        "- Revisitar suas variáveis e criar outras\n",
        "- Utilizar métodos para tunar seu modelo"
      ]
    }
  ]
}